{
 "metadata": {
  "language_info": {
   "codemirror_mode": {
    "name": "ipython",
    "version": 3
   },
   "file_extension": ".py",
   "mimetype": "text/x-python",
   "name": "python",
   "nbconvert_exporter": "python",
   "pygments_lexer": "ipython3",
   "version": "3.8.5"
  },
  "orig_nbformat": 2,
  "kernelspec": {
   "name": "python385jvsc74a57bd0a5ea72841f3384e9270b0a054395eca0d7b72480707ef224b05b46ae15c777a0",
   "display_name": "Python 3.8.5 64-bit ('cs7643-a2': conda)"
  }
 },
 "nbformat": 4,
 "nbformat_minor": 2,
 "cells": [
  {
   "cell_type": "code",
   "execution_count": 1,
   "metadata": {},
   "outputs": [
    {
     "output_type": "stream",
     "name": "stdout",
     "text": [
      "You are using device: cuda\n"
     ]
    }
   ],
   "source": [
    "import numpy as np\n",
    "import csv\n",
    "import torch\n",
    "\n",
    "# for auto-reloading external modules\n",
    "# see http://stackoverflow.com/questions/1907993/autoreload-of-modules-in-ipython\n",
    "%load_ext autoreload\n",
    "%autoreload 2\n",
    "\n",
    "import sys\n",
    "sys.path.append('/data/rgur/courses/cs_7643_deep_learning/hw4/')\n",
    "\n",
    "# Just run this block. Please do not modify the following code.\n",
    "import math\n",
    "import time\n",
    "\n",
    "# Pytorch package\n",
    "import torch\n",
    "import torch.nn as nn\n",
    "import torch.optim as optim\n",
    "\n",
    "# Torchtest package\n",
    "from torchtext.datasets import Multi30k\n",
    "from torchtext.data import Field, BucketIterator, Example, TabularDataset, interleave_keys, LabelField\n",
    "\n",
    "# Tqdm progress bar\n",
    "from tqdm import tqdm_notebook, tqdm\n",
    "\n",
    "# Code provide to you for training and evaluation\n",
    "#from hw4_code.utils import train, evaluate, set_seed_nb, unit_test_values\n",
    "from utils import qe_train, qe_evaluate\n",
    "\n",
    "import importlib\n",
    "\n",
    "# Check device availability\n",
    "device = torch.device('cuda' if torch.cuda.is_available() else 'cpu')\n",
    "print(\"You are using device: %s\" % device)"
   ]
  },
  {
   "cell_type": "code",
   "execution_count": 2,
   "metadata": {},
   "outputs": [
    {
     "output_type": "stream",
     "name": "stderr",
     "text": [
      "/home/rgur/.conda/envs/cs7643-a2/lib/python3.8/site-packages/torchtext/data/field.py:150: UserWarning: Field class will be retired soon and moved to torchtext.legacy. Please see the most recent release notes for further information.\n",
      "  warnings.warn('{} class will be retired soon and moved to torchtext.legacy. Please see the most recent release notes for further information.'.format(self.__class__.__name__), UserWarning)\n",
      "/home/rgur/.conda/envs/cs7643-a2/lib/python3.8/site-packages/torchtext/data/field.py:150: UserWarning: Field class will be retired soon and moved to torchtext.legacy. Please see the most recent release notes for further information.\n",
      "  warnings.warn('{} class will be retired soon and moved to torchtext.legacy. Please see the most recent release notes for further information.'.format(self.__class__.__name__), UserWarning)\n",
      "/home/rgur/.conda/envs/cs7643-a2/lib/python3.8/site-packages/torchtext/data/field.py:150: UserWarning: LabelField class will be retired soon and moved to torchtext.legacy. Please see the most recent release notes for further information.\n",
      "  warnings.warn('{} class will be retired soon and moved to torchtext.legacy. Please see the most recent release notes for further information.'.format(self.__class__.__name__), UserWarning)\n",
      "/home/rgur/.conda/envs/cs7643-a2/lib/python3.8/site-packages/torchtext/data/example.py:68: UserWarning: Example class will be retired soon and moved to torchtext.legacy. Please see the most recent release notes for further information.\n",
      "  warnings.warn('Example class will be retired soon and moved to torchtext.legacy. Please see the most recent release notes for further information.', UserWarning)\n",
      "/home/rgur/.conda/envs/cs7643-a2/lib/python3.8/site-packages/torchtext/data/example.py:52: UserWarning: Example class will be retired soon and moved to torchtext.legacy. Please see the most recent release notes for further information.\n",
      "  warnings.warn('Example class will be retired soon and moved to torchtext.legacy. Please see the most recent release notes for further information.', UserWarning)\n",
      "/home/rgur/.conda/envs/cs7643-a2/lib/python3.8/site-packages/torchtext/data/iterator.py:48: UserWarning: BucketIterator class will be retired soon and moved to torchtext.legacy. Please see the most recent release notes for further information.\n",
      "  warnings.warn('{} class will be retired soon and moved to torchtext.legacy. Please see the most recent release notes for further information.'.format(self.__class__.__name__), UserWarning)\n"
     ]
    }
   ],
   "source": [
    "# You don't need to modify any code in this block\n",
    "\n",
    "# Define the maximum length of the sentence. Shorter sentences will be padded to that length and longer sentences will be croped. Given that the average length of the sentence in the corpus is around 13, we can set it to 20\n",
    "MAX_LEN = 20\n",
    "\n",
    "# Define the source and target language\n",
    "SRC = Field(tokenize = \"spacy\",\n",
    "            tokenizer_language=\"ro_core_news_sm\",\n",
    "            init_token = '<sos>',\n",
    "            eos_token = '<eos>',\n",
    "            fix_length = MAX_LEN,\n",
    "            lower = True)\n",
    "\n",
    "TRG = Field(tokenize = \"spacy\",\n",
    "            tokenizer_language=\"en\",\n",
    "            init_token = '<sos>',\n",
    "            eos_token = '<eos>',\n",
    "            fix_length = MAX_LEN,\n",
    "            lower = True)\n",
    "\n",
    "Z = LabelField(dtype=torch.float, batch_first=True, use_vocab=False)\n",
    "\n",
    "train_data = TabularDataset(path='/data/rgur/courses/cs_7643_deep_learning/project/mlqe/data/ro-en/train.roen.df.short.tsv',format='TSV',fields={'original':('src',SRC),\n",
    "'translation':('trg',TRG),\n",
    "'z_mean':('z',Z)})\n",
    "\n",
    "val_data = TabularDataset(path='/data/rgur/courses/cs_7643_deep_learning/project/mlqe/data/ro-en/dev.roen.df.short.tsv',format='TSV',fields={'original':('src',SRC),\n",
    "'translation':('trg',TRG),\n",
    "'z_mean':('z',Z)})\n",
    "\n",
    "# Define Batchsize\n",
    "BATCH_SIZE = 128\n",
    "\n",
    "# Build the vocabulary associated with each language\n",
    "SRC.build_vocab(train_data, min_freq = 2)\n",
    "TRG.build_vocab(train_data, min_freq = 2)\n",
    "\n",
    "# Get the padding index to be ignored later in loss calculation\n",
    "PAD_IDX = TRG.vocab.stoi['<pad>']\n",
    "\n",
    "# Get data-loaders using BucketIterator\n",
    "train_loader = BucketIterator( #Defines an iterator that batches examples of similar lengths together.\n",
    "    train_data,\n",
    "    batch_size = BATCH_SIZE, device = device, sort_key=lambda x: interleave_keys(len(x.src), len(x.trg)))\n",
    "\n",
    "val_loader = BucketIterator( #Defines an iterator that batches examples of similar lengths together.\n",
    "    val_data,\n",
    "    batch_size = BATCH_SIZE, device = device, sort_key=lambda x: interleave_keys(len(x.src), len(x.trg)))\n",
    "\n",
    "# Get the input and the output sizes for model\n",
    "input_size = len(SRC.vocab)\n",
    "output_size = len(TRG.vocab)"
   ]
  },
  {
   "cell_type": "code",
   "execution_count": 3,
   "metadata": {},
   "outputs": [],
   "source": [
    "class QEModel(nn.Module):\n",
    "    \"\"\"\n",
    "    A single-layer Transformer which encodes a sequence of text and \n",
    "    performs binary classification.\n",
    "\n",
    "    The model has a vocab size of V, works on\n",
    "    sequences of length T, has an hidden dimension of H, uses word vectors\n",
    "    also of dimension H, and operates on minibatches of size N.\n",
    "    \"\"\"\n",
    "    def __init__(self, input_size=256*20):\n",
    "        super(QEModel, self).__init__()\n",
    "        self.lin1 = nn.Linear(256*20,1028)\n",
    "        self.lin2 = nn.Linear(1028,1)\n",
    "    \n",
    "    def forward(self, x):\n",
    "        x = nn.functional.relu( self.lin1(x) )\n",
    "        x = nn.functional.dropout(x,p=.2)\n",
    "        return self.lin2(x)"
   ]
  },
  {
   "cell_type": "code",
   "execution_count": 4,
   "metadata": {},
   "outputs": [],
   "source": [
    "qe_model = QEModel().to(device)"
   ]
  },
  {
   "cell_type": "code",
   "execution_count": 5,
   "metadata": {},
   "outputs": [],
   "source": [
    "#importlib.reload(hw4_code.models.Transformer)\n",
    "from hw4_code.models.Transformer import TransformerTranslator\n",
    "source_model = TransformerTranslator(output_size, input_size, device, max_length = MAX_LEN).to(device)\n",
    "target_model = TransformerTranslator(input_size, output_size, device, max_length = MAX_LEN).to(device)"
   ]
  },
  {
   "cell_type": "code",
   "execution_count": 6,
   "metadata": {},
   "outputs": [
    {
     "output_type": "execute_result",
     "data": {
      "text/plain": [
       "<All keys matched successfully>"
      ]
     },
     "metadata": {},
     "execution_count": 6
    }
   ],
   "source": [
    "source_model.load_state_dict(torch.load('/data/rgur/courses/cs_7643_deep_learning/project/en_ro.pt'))\n",
    "target_model.load_state_dict(torch.load('/data/rgur/courses/cs_7643_deep_learning/project/ro_en.pt'))"
   ]
  },
  {
   "cell_type": "code",
   "execution_count": 7,
   "metadata": {},
   "outputs": [],
   "source": [
    "# Hyperparameters\n",
    "learning_rate = .001\n",
    "EPOCHS = 25\n",
    "\n",
    "# Model\n",
    "\n",
    "\n",
    "# optimizer = optim.Adam(model.parameters(), lr = learning_rate)\n",
    "optimizer = torch.optim.Adam(qe_model.parameters(), lr=learning_rate)\n",
    "scheduler = torch.optim.lr_scheduler.ReduceLROnPlateau(optimizer)\n",
    "criterion = nn.MSELoss()"
   ]
  },
  {
   "cell_type": "code",
   "execution_count": 13,
   "metadata": {
    "tags": []
   },
   "outputs": [
    {
     "output_type": "stream",
     "name": "stdout",
     "text": [
      "-----------------------------------\nEpoch 1\n-----------------------------------\n"
     ]
    },
    {
     "output_type": "display_data",
     "data": {
      "text/plain": "  0%|          | 0/53 [00:00<?, ?it/s]",
      "application/vnd.jupyter.widget-view+json": {
       "version_major": 2,
       "version_minor": 0,
       "model_id": "164e8b53d9724d26926f75b4305e192a"
      }
     },
     "metadata": {}
    },
    {
     "output_type": "display_data",
     "data": {
      "text/plain": "  0%|          | 0/8 [00:00<?, ?it/s]",
      "application/vnd.jupyter.widget-view+json": {
       "version_major": 2,
       "version_minor": 0,
       "model_id": "1d374cd88ca74eb48a13924b171009c6"
      }
     },
     "metadata": {}
    },
    {
     "output_type": "stream",
     "name": "stdout",
     "text": [
      "preds: tensor([ 0.7939, -0.8459,  0.0559, -0.0794,  0.8472], device='cuda:0',\n       grad_fn=<SliceBackward>)\nlabel: tensor([0.8464, 0.6517, 0.8446, 0.8611, 0.5942], device='cuda:0')\nTraining Loss: 0.5842. Validation Loss: 0.9382. \n-----------------------------------\nEpoch 2\n-----------------------------------\n"
     ]
    },
    {
     "output_type": "display_data",
     "data": {
      "text/plain": "  0%|          | 0/53 [00:00<?, ?it/s]",
      "application/vnd.jupyter.widget-view+json": {
       "version_major": 2,
       "version_minor": 0,
       "model_id": "e9b0895bcfa14dc89d184ddc0299dd85"
      }
     },
     "metadata": {}
    },
    {
     "output_type": "display_data",
     "data": {
      "text/plain": "  0%|          | 0/8 [00:00<?, ?it/s]",
      "application/vnd.jupyter.widget-view+json": {
       "version_major": 2,
       "version_minor": 0,
       "model_id": "a9dce512f3664a018bc499c39787be14"
      }
     },
     "metadata": {}
    },
    {
     "output_type": "stream",
     "name": "stdout",
     "text": [
      "preds: tensor([ 0.0605,  0.6486,  0.2190, -0.3339, -0.9219], device='cuda:0',\n       grad_fn=<SliceBackward>)\nlabel: tensor([ 0.0822, -0.0867,  0.6109, -0.9202, -0.2225], device='cuda:0')\nTraining Loss: 0.5779. Validation Loss: 1.0057. \n-----------------------------------\nEpoch 3\n-----------------------------------\n"
     ]
    },
    {
     "output_type": "display_data",
     "data": {
      "text/plain": "  0%|          | 0/53 [00:00<?, ?it/s]",
      "application/vnd.jupyter.widget-view+json": {
       "version_major": 2,
       "version_minor": 0,
       "model_id": "75a65e1661e7443086521859881c771f"
      }
     },
     "metadata": {}
    },
    {
     "output_type": "display_data",
     "data": {
      "text/plain": "  0%|          | 0/8 [00:00<?, ?it/s]",
      "application/vnd.jupyter.widget-view+json": {
       "version_major": 2,
       "version_minor": 0,
       "model_id": "e1f2722b1a454e3cb86223fe12d70231"
      }
     },
     "metadata": {}
    },
    {
     "output_type": "stream",
     "name": "stdout",
     "text": [
      "preds: tensor([ 0.0642, -0.5360,  0.5206,  0.2468,  0.0642], device='cuda:0',\n       grad_fn=<SliceBackward>)\nlabel: tensor([ 0.1547,  0.5908,  1.0286,  0.9036, -1.8131], device='cuda:0')\nTraining Loss: 0.5665. Validation Loss: 0.9892. \n-----------------------------------\nEpoch 4\n-----------------------------------\n"
     ]
    },
    {
     "output_type": "display_data",
     "data": {
      "text/plain": "  0%|          | 0/53 [00:00<?, ?it/s]",
      "application/vnd.jupyter.widget-view+json": {
       "version_major": 2,
       "version_minor": 0,
       "model_id": "fca5d238ae5c48db8a7cfe964b0f2fa9"
      }
     },
     "metadata": {}
    },
    {
     "output_type": "display_data",
     "data": {
      "text/plain": "  0%|          | 0/8 [00:00<?, ?it/s]",
      "application/vnd.jupyter.widget-view+json": {
       "version_major": 2,
       "version_minor": 0,
       "model_id": "d0f7a982923c491492a2745ead8df805"
      }
     },
     "metadata": {}
    },
    {
     "output_type": "stream",
     "name": "stdout",
     "text": [
      "preds: tensor([ 0.3770, -1.0760, -0.6581,  0.5495,  1.1624], device='cuda:0',\n       grad_fn=<SliceBackward>)\nlabel: tensor([-0.3768,  0.7346,  0.9151,  0.9233,  0.8853], device='cuda:0')\nTraining Loss: 0.5700. Validation Loss: 0.9677. \n-----------------------------------\nEpoch 5\n-----------------------------------\n"
     ]
    },
    {
     "output_type": "display_data",
     "data": {
      "text/plain": "  0%|          | 0/53 [00:00<?, ?it/s]",
      "application/vnd.jupyter.widget-view+json": {
       "version_major": 2,
       "version_minor": 0,
       "model_id": "f301ddf8e4d74238b57546321f8ac026"
      }
     },
     "metadata": {}
    },
    {
     "output_type": "display_data",
     "data": {
      "text/plain": "  0%|          | 0/8 [00:00<?, ?it/s]",
      "application/vnd.jupyter.widget-view+json": {
       "version_major": 2,
       "version_minor": 0,
       "model_id": "b0f4b8192e604d2d942db205fb2cfb42"
      }
     },
     "metadata": {}
    },
    {
     "output_type": "stream",
     "name": "stdout",
     "text": [
      "preds: tensor([-0.3450,  0.9693,  0.0054, -0.5569,  0.2342], device='cuda:0',\n       grad_fn=<SliceBackward>)\nlabel: tensor([-0.3250, -0.0823,  0.9379,  0.5809, -0.7997], device='cuda:0')\nTraining Loss: 0.5620. Validation Loss: 0.9730. \n-----------------------------------\nEpoch 6\n-----------------------------------\n"
     ]
    },
    {
     "output_type": "display_data",
     "data": {
      "text/plain": "  0%|          | 0/53 [00:00<?, ?it/s]",
      "application/vnd.jupyter.widget-view+json": {
       "version_major": 2,
       "version_minor": 0,
       "model_id": "372914fbdf8e41efa2d8a76867f94f84"
      }
     },
     "metadata": {}
    },
    {
     "output_type": "display_data",
     "data": {
      "text/plain": "  0%|          | 0/8 [00:00<?, ?it/s]",
      "application/vnd.jupyter.widget-view+json": {
       "version_major": 2,
       "version_minor": 0,
       "model_id": "656ed1d5b06d44ca90a2afa29aaab41b"
      }
     },
     "metadata": {}
    },
    {
     "output_type": "stream",
     "name": "stdout",
     "text": [
      "preds: tensor([-1.4550,  0.0772, -0.3435,  0.9533, -0.3748], device='cuda:0',\n       grad_fn=<SliceBackward>)\nlabel: tensor([-2.4535,  1.0141,  0.9036, -2.3172, -1.3027], device='cuda:0')\nTraining Loss: 0.5694. Validation Loss: 1.0558. \n-----------------------------------\nEpoch 7\n-----------------------------------\n"
     ]
    },
    {
     "output_type": "display_data",
     "data": {
      "text/plain": "  0%|          | 0/53 [00:00<?, ?it/s]",
      "application/vnd.jupyter.widget-view+json": {
       "version_major": 2,
       "version_minor": 0,
       "model_id": "fe182290cf544de0bd6070ef84f53db6"
      }
     },
     "metadata": {}
    },
    {
     "output_type": "display_data",
     "data": {
      "text/plain": "  0%|          | 0/8 [00:00<?, ?it/s]",
      "application/vnd.jupyter.widget-view+json": {
       "version_major": 2,
       "version_minor": 0,
       "model_id": "88ace3122a8944d2aff828b51b795e8b"
      }
     },
     "metadata": {}
    },
    {
     "output_type": "stream",
     "name": "stdout",
     "text": [
      "preds: tensor([ 0.0819, -0.4428, -0.4584,  0.2572,  0.0819], device='cuda:0',\n       grad_fn=<SliceBackward>)\nlabel: tensor([ 1.0124,  0.8918, -0.2678, -1.2714,  0.9957], device='cuda:0')\nTraining Loss: 0.5538. Validation Loss: 0.9636. \n-----------------------------------\nEpoch 8\n-----------------------------------\n"
     ]
    },
    {
     "output_type": "display_data",
     "data": {
      "text/plain": "  0%|          | 0/53 [00:00<?, ?it/s]",
      "application/vnd.jupyter.widget-view+json": {
       "version_major": 2,
       "version_minor": 0,
       "model_id": "06085085bd0248c89285dd2277672a84"
      }
     },
     "metadata": {}
    },
    {
     "output_type": "display_data",
     "data": {
      "text/plain": "  0%|          | 0/8 [00:00<?, ?it/s]",
      "application/vnd.jupyter.widget-view+json": {
       "version_major": 2,
       "version_minor": 0,
       "model_id": "e6d7ea027c53405583d9f51f836158ed"
      }
     },
     "metadata": {}
    },
    {
     "output_type": "stream",
     "name": "stdout",
     "text": [
      "preds: tensor([-0.2315,  0.0861,  0.4705, -0.6416,  0.0252], device='cuda:0',\n       grad_fn=<SliceBackward>)\nlabel: tensor([ 0.9761,  0.8218,  0.1913, -1.1457, -0.6204], device='cuda:0')\nTraining Loss: 0.5516. Validation Loss: 0.9921. \n-----------------------------------\nEpoch 9\n-----------------------------------\n"
     ]
    },
    {
     "output_type": "display_data",
     "data": {
      "text/plain": "  0%|          | 0/53 [00:00<?, ?it/s]",
      "application/vnd.jupyter.widget-view+json": {
       "version_major": 2,
       "version_minor": 0,
       "model_id": "efd8b33cf71c40ebadd17c228e1fa6d0"
      }
     },
     "metadata": {}
    },
    {
     "output_type": "display_data",
     "data": {
      "text/plain": "  0%|          | 0/8 [00:00<?, ?it/s]",
      "application/vnd.jupyter.widget-view+json": {
       "version_major": 2,
       "version_minor": 0,
       "model_id": "1a84dc49afa84da9bafc5f040662a0be"
      }
     },
     "metadata": {}
    },
    {
     "output_type": "stream",
     "name": "stdout",
     "text": [
      "preds: tensor([ 0.3157,  0.5977,  0.2537,  0.0907, -0.2794], device='cuda:0',\n       grad_fn=<SliceBackward>)\nlabel: tensor([ 0.3378,  0.9167, -0.9097, -1.0627,  0.3284], device='cuda:0')\nTraining Loss: 0.5563. Validation Loss: 0.9820. \n-----------------------------------\nEpoch 10\n-----------------------------------\n"
     ]
    },
    {
     "output_type": "display_data",
     "data": {
      "text/plain": "  0%|          | 0/53 [00:00<?, ?it/s]",
      "application/vnd.jupyter.widget-view+json": {
       "version_major": 2,
       "version_minor": 0,
       "model_id": "dd14d63cdacd46829f580e2c20d4a408"
      }
     },
     "metadata": {}
    },
    {
     "output_type": "display_data",
     "data": {
      "text/plain": "  0%|          | 0/8 [00:00<?, ?it/s]",
      "application/vnd.jupyter.widget-view+json": {
       "version_major": 2,
       "version_minor": 0,
       "model_id": "6e6b2aaca2ee43258ceaf1ee92d03e26"
      }
     },
     "metadata": {}
    },
    {
     "output_type": "stream",
     "name": "stdout",
     "text": [
      "preds: tensor([-0.4067,  0.0954, -0.3968,  0.6820,  0.0954], device='cuda:0',\n       grad_fn=<SliceBackward>)\nlabel: tensor([-0.8477,  0.8102, -1.2777, -0.4640, -1.1226], device='cuda:0')\nTraining Loss: 0.5470. Validation Loss: 0.9970. \n-----------------------------------\nEpoch 11\n-----------------------------------\n"
     ]
    },
    {
     "output_type": "display_data",
     "data": {
      "text/plain": "  0%|          | 0/53 [00:00<?, ?it/s]",
      "application/vnd.jupyter.widget-view+json": {
       "version_major": 2,
       "version_minor": 0,
       "model_id": "ca3702b178ab46b18aeeb15f365f3b1e"
      }
     },
     "metadata": {}
    },
    {
     "output_type": "display_data",
     "data": {
      "text/plain": "  0%|          | 0/8 [00:00<?, ?it/s]",
      "application/vnd.jupyter.widget-view+json": {
       "version_major": 2,
       "version_minor": 0,
       "model_id": "726177ebdb6a40ba9e7a0552e5c0582b"
      }
     },
     "metadata": {}
    },
    {
     "output_type": "stream",
     "name": "stdout",
     "text": [
      "preds: tensor([-1.6888,  0.1017,  0.1017, -0.7516,  0.4890], device='cuda:0',\n       grad_fn=<SliceBackward>)\nlabel: tensor([-0.9555,  0.8039,  0.7947, -0.7703, -0.6692], device='cuda:0')\nTraining Loss: 0.5492. Validation Loss: 0.9538. \n-----------------------------------\nEpoch 12\n-----------------------------------\n"
     ]
    },
    {
     "output_type": "display_data",
     "data": {
      "text/plain": "  0%|          | 0/53 [00:00<?, ?it/s]",
      "application/vnd.jupyter.widget-view+json": {
       "version_major": 2,
       "version_minor": 0,
       "model_id": "ea63aefce32549808d95216d9e839f3b"
      }
     },
     "metadata": {}
    },
    {
     "output_type": "display_data",
     "data": {
      "text/plain": "  0%|          | 0/8 [00:00<?, ?it/s]",
      "application/vnd.jupyter.widget-view+json": {
       "version_major": 2,
       "version_minor": 0,
       "model_id": "0f384bd2163447fbbde48d6f97ad01f8"
      }
     },
     "metadata": {}
    },
    {
     "output_type": "stream",
     "name": "stdout",
     "text": [
      "preds: tensor([-0.3189, -0.8444,  1.2412,  0.5323, -0.7384], device='cuda:0',\n       grad_fn=<SliceBackward>)\nlabel: tensor([-0.3113,  0.6517,  0.9584, -1.0702,  0.9103], device='cuda:0')\nTraining Loss: 0.5497. Validation Loss: 0.9875. \n-----------------------------------\nEpoch 13\n-----------------------------------\n"
     ]
    },
    {
     "output_type": "display_data",
     "data": {
      "text/plain": "  0%|          | 0/53 [00:00<?, ?it/s]",
      "application/vnd.jupyter.widget-view+json": {
       "version_major": 2,
       "version_minor": 0,
       "model_id": "d4070a2d44c1425b9ef1e9f32869995f"
      }
     },
     "metadata": {}
    },
    {
     "output_type": "display_data",
     "data": {
      "text/plain": "  0%|          | 0/8 [00:00<?, ?it/s]",
      "application/vnd.jupyter.widget-view+json": {
       "version_major": 2,
       "version_minor": 0,
       "model_id": "a30952c1ef4547e0a037e760ec41bb00"
      }
     },
     "metadata": {}
    },
    {
     "output_type": "stream",
     "name": "stdout",
     "text": [
      "preds: tensor([ 0.1090, -0.3017,  0.4913, -1.1920, -0.7420], device='cuda:0',\n       grad_fn=<SliceBackward>)\nlabel: tensor([-1.3250, -0.7916, -0.6923,  0.9087,  0.7832], device='cuda:0')\nTraining Loss: 0.5378. Validation Loss: 0.9889. \n-----------------------------------\nEpoch 14\n-----------------------------------\n"
     ]
    },
    {
     "output_type": "display_data",
     "data": {
      "text/plain": "  0%|          | 0/53 [00:00<?, ?it/s]",
      "application/vnd.jupyter.widget-view+json": {
       "version_major": 2,
       "version_minor": 0,
       "model_id": "78625419f7374b5cadb0fb9703f0a853"
      }
     },
     "metadata": {}
    },
    {
     "output_type": "display_data",
     "data": {
      "text/plain": "  0%|          | 0/8 [00:00<?, ?it/s]",
      "application/vnd.jupyter.widget-view+json": {
       "version_major": 2,
       "version_minor": 0,
       "model_id": "f793069c26404528b42c0cf1d0e10cdb"
      }
     },
     "metadata": {}
    },
    {
     "output_type": "stream",
     "name": "stdout",
     "text": [
      "preds: tensor([ 0.6588,  0.9149, -0.7182, -1.1437,  0.0726], device='cuda:0',\n       grad_fn=<SliceBackward>)\nlabel: tensor([-0.1077,  0.8427, -0.4129, -0.2316,  0.2152], device='cuda:0')\nTraining Loss: 0.5313. Validation Loss: 1.0924. \n-----------------------------------\nEpoch 15\n-----------------------------------\n"
     ]
    },
    {
     "output_type": "display_data",
     "data": {
      "text/plain": "  0%|          | 0/53 [00:00<?, ?it/s]",
      "application/vnd.jupyter.widget-view+json": {
       "version_major": 2,
       "version_minor": 0,
       "model_id": "1826c1bf5da749dd87f98f823c74de14"
      }
     },
     "metadata": {}
    },
    {
     "output_type": "display_data",
     "data": {
      "text/plain": "  0%|          | 0/8 [00:00<?, ?it/s]",
      "application/vnd.jupyter.widget-view+json": {
       "version_major": 2,
       "version_minor": 0,
       "model_id": "00e37ea2fb8e4c77a71bb6f5227788c3"
      }
     },
     "metadata": {}
    },
    {
     "output_type": "stream",
     "name": "stdout",
     "text": [
      "preds: tensor([ 0.1151,  0.7393, -0.2762, -0.2702,  0.0521], device='cuda:0',\n       grad_fn=<SliceBackward>)\nlabel: tensor([-0.3663,  0.6868, -0.1279, -0.9767, -0.3980], device='cuda:0')\nTraining Loss: 0.5295. Validation Loss: 0.9717. \n-----------------------------------\nEpoch 16\n-----------------------------------\n"
     ]
    },
    {
     "output_type": "display_data",
     "data": {
      "text/plain": "  0%|          | 0/53 [00:00<?, ?it/s]",
      "application/vnd.jupyter.widget-view+json": {
       "version_major": 2,
       "version_minor": 0,
       "model_id": "6b5a86ebbfe64e8bbfe9c16cf79ca168"
      }
     },
     "metadata": {}
    },
    {
     "output_type": "display_data",
     "data": {
      "text/plain": "  0%|          | 0/8 [00:00<?, ?it/s]",
      "application/vnd.jupyter.widget-view+json": {
       "version_major": 2,
       "version_minor": 0,
       "model_id": "90f765b9d9e14d5bbba9a72564aae13f"
      }
     },
     "metadata": {}
    },
    {
     "output_type": "stream",
     "name": "stdout",
     "text": [
      "preds: tensor([-0.7281, -0.5970, -0.2317,  1.1929,  0.0771], device='cuda:0',\n       grad_fn=<SliceBackward>)\nlabel: tensor([ 0.9288,  0.5648,  0.7696, -2.3172,  0.9797], device='cuda:0')\nTraining Loss: 0.5343. Validation Loss: 1.0221. \n-----------------------------------\nEpoch 17\n-----------------------------------\n"
     ]
    },
    {
     "output_type": "display_data",
     "data": {
      "text/plain": "  0%|          | 0/53 [00:00<?, ?it/s]",
      "application/vnd.jupyter.widget-view+json": {
       "version_major": 2,
       "version_minor": 0,
       "model_id": "cff09def9b4b4490a9cbb1dddca15ae2"
      }
     },
     "metadata": {}
    },
    {
     "output_type": "display_data",
     "data": {
      "text/plain": "  0%|          | 0/8 [00:00<?, ?it/s]",
      "application/vnd.jupyter.widget-view+json": {
       "version_major": 2,
       "version_minor": 0,
       "model_id": "fd1c15ff82084c15a4fdf6125d675cf2"
      }
     },
     "metadata": {}
    },
    {
     "output_type": "stream",
     "name": "stdout",
     "text": [
      "preds: tensor([ 0.0489,  0.3968, -0.4464, -0.3781,  0.1247], device='cuda:0',\n       grad_fn=<SliceBackward>)\nlabel: tensor([ 0.9154, -0.2613, -1.4028,  0.8098,  0.6234], device='cuda:0')\nTraining Loss: 0.5379. Validation Loss: 0.9672. \n-----------------------------------\nEpoch 18\n-----------------------------------\n"
     ]
    },
    {
     "output_type": "display_data",
     "data": {
      "text/plain": "  0%|          | 0/53 [00:00<?, ?it/s]",
      "application/vnd.jupyter.widget-view+json": {
       "version_major": 2,
       "version_minor": 0,
       "model_id": "b30b7630848d4c1cbfabef1ce514a087"
      }
     },
     "metadata": {}
    },
    {
     "output_type": "display_data",
     "data": {
      "text/plain": "  0%|          | 0/8 [00:00<?, ?it/s]",
      "application/vnd.jupyter.widget-view+json": {
       "version_major": 2,
       "version_minor": 0,
       "model_id": "1d78ca8048f84f75b86702d69aaee7fc"
      }
     },
     "metadata": {}
    },
    {
     "output_type": "stream",
     "name": "stdout",
     "text": [
      "preds: tensor([ 0.1290, -0.6467,  0.4364,  0.3864, -0.2959], device='cuda:0',\n       grad_fn=<SliceBackward>)\nlabel: tensor([-1.0359,  0.5426,  0.9624,  0.8966, -0.4021], device='cuda:0')\nTraining Loss: 0.5338. Validation Loss: 1.0097. \n-----------------------------------\nEpoch 19\n-----------------------------------\n"
     ]
    },
    {
     "output_type": "display_data",
     "data": {
      "text/plain": "  0%|          | 0/53 [00:00<?, ?it/s]",
      "application/vnd.jupyter.widget-view+json": {
       "version_major": 2,
       "version_minor": 0,
       "model_id": "a27c1f84f9bb492bbb3346ae39ff6638"
      }
     },
     "metadata": {}
    },
    {
     "output_type": "display_data",
     "data": {
      "text/plain": "  0%|          | 0/8 [00:00<?, ?it/s]",
      "application/vnd.jupyter.widget-view+json": {
       "version_major": 2,
       "version_minor": 0,
       "model_id": "9dce419f80ad4d77976f865e26ab6107"
      }
     },
     "metadata": {}
    },
    {
     "output_type": "stream",
     "name": "stdout",
     "text": [
      "preds: tensor([ 0.1368, -0.4321, -0.0563,  0.3369,  0.7021], device='cuda:0',\n       grad_fn=<SliceBackward>)\nlabel: tensor([ 0.3879, -1.4028, -2.5997, -0.5241,  1.0561], device='cuda:0')\nTraining Loss: 0.5308. Validation Loss: 1.0640. \n-----------------------------------\nEpoch 20\n-----------------------------------\n"
     ]
    },
    {
     "output_type": "display_data",
     "data": {
      "text/plain": "  0%|          | 0/53 [00:00<?, ?it/s]",
      "application/vnd.jupyter.widget-view+json": {
       "version_major": 2,
       "version_minor": 0,
       "model_id": "f7fcef1530194e598320d2281dc49b95"
      }
     },
     "metadata": {}
    },
    {
     "output_type": "display_data",
     "data": {
      "text/plain": "  0%|          | 0/8 [00:00<?, ?it/s]",
      "application/vnd.jupyter.widget-view+json": {
       "version_major": 2,
       "version_minor": 0,
       "model_id": "6524797639b64fccae79befb7367e247"
      }
     },
     "metadata": {}
    },
    {
     "output_type": "stream",
     "name": "stdout",
     "text": [
      "preds: tensor([ 0.0334,  0.1358, -0.2127, -0.5306,  0.1358], device='cuda:0',\n       grad_fn=<SliceBackward>)\nlabel: tensor([ 0.4616,  0.2037, -0.1854, -0.6842, -0.0464], device='cuda:0')\nTraining Loss: 0.5384. Validation Loss: 1.0492. \n-----------------------------------\nEpoch 21\n-----------------------------------\n"
     ]
    },
    {
     "output_type": "display_data",
     "data": {
      "text/plain": "  0%|          | 0/53 [00:00<?, ?it/s]",
      "application/vnd.jupyter.widget-view+json": {
       "version_major": 2,
       "version_minor": 0,
       "model_id": "06f39e82fd0f451cbf4448a86ccc11fb"
      }
     },
     "metadata": {}
    },
    {
     "output_type": "display_data",
     "data": {
      "text/plain": "  0%|          | 0/8 [00:00<?, ?it/s]",
      "application/vnd.jupyter.widget-view+json": {
       "version_major": 2,
       "version_minor": 0,
       "model_id": "914118e2c07048e1b120528155e56439"
      }
     },
     "metadata": {}
    },
    {
     "output_type": "stream",
     "name": "stdout",
     "text": [
      "preds: tensor([ 0.1392, -0.1859, -0.1111,  0.3832, -1.8208], device='cuda:0',\n       grad_fn=<SliceBackward>)\nlabel: tensor([ 0.7052,  0.0950, -0.8332, -2.2937,  0.6523], device='cuda:0')\nTraining Loss: 0.5404. Validation Loss: 0.9650. \n-----------------------------------\nEpoch 22\n-----------------------------------\n"
     ]
    },
    {
     "output_type": "display_data",
     "data": {
      "text/plain": "  0%|          | 0/53 [00:00<?, ?it/s]",
      "application/vnd.jupyter.widget-view+json": {
       "version_major": 2,
       "version_minor": 0,
       "model_id": "76e3b7e637aa473391b866c033880538"
      }
     },
     "metadata": {}
    },
    {
     "output_type": "display_data",
     "data": {
      "text/plain": "  0%|          | 0/8 [00:00<?, ?it/s]",
      "application/vnd.jupyter.widget-view+json": {
       "version_major": 2,
       "version_minor": 0,
       "model_id": "0e80a405bc3a4abeadfe9c6da2fa9c9f"
      }
     },
     "metadata": {}
    },
    {
     "output_type": "stream",
     "name": "stdout",
     "text": [
      "preds: tensor([-0.9759,  0.4458, -0.1753,  0.0752,  0.1428], device='cuda:0',\n       grad_fn=<SliceBackward>)\nlabel: tensor([-2.4080, -0.4405,  0.9185, -0.4319, -0.0356], device='cuda:0')\nTraining Loss: 0.5217. Validation Loss: 1.0437. \n-----------------------------------\nEpoch 23\n-----------------------------------\n"
     ]
    },
    {
     "output_type": "display_data",
     "data": {
      "text/plain": "  0%|          | 0/53 [00:00<?, ?it/s]",
      "application/vnd.jupyter.widget-view+json": {
       "version_major": 2,
       "version_minor": 0,
       "model_id": "146073d640164ac190eeb6fd79eff3a3"
      }
     },
     "metadata": {}
    },
    {
     "output_type": "display_data",
     "data": {
      "text/plain": "  0%|          | 0/8 [00:00<?, ?it/s]",
      "application/vnd.jupyter.widget-view+json": {
       "version_major": 2,
       "version_minor": 0,
       "model_id": "5685aa9630c146c386ea6e175d493f1f"
      }
     },
     "metadata": {}
    },
    {
     "output_type": "stream",
     "name": "stdout",
     "text": [
      "preds: tensor([-0.4285,  0.5735,  0.1438, -0.1483,  0.2890], device='cuda:0',\n       grad_fn=<SliceBackward>)\nlabel: tensor([-0.6159,  0.9535,  0.1559, -0.5333,  0.9010], device='cuda:0')\nTraining Loss: 0.5190. Validation Loss: 1.0659. \n-----------------------------------\nEpoch 24\n-----------------------------------\n"
     ]
    },
    {
     "output_type": "display_data",
     "data": {
      "text/plain": "  0%|          | 0/53 [00:00<?, ?it/s]",
      "application/vnd.jupyter.widget-view+json": {
       "version_major": 2,
       "version_minor": 0,
       "model_id": "3c20a7be868d42b7ac569ae7aa0ceb56"
      }
     },
     "metadata": {}
    },
    {
     "output_type": "display_data",
     "data": {
      "text/plain": "  0%|          | 0/8 [00:00<?, ?it/s]",
      "application/vnd.jupyter.widget-view+json": {
       "version_major": 2,
       "version_minor": 0,
       "model_id": "e4b4c7d854bd486db26d6d0300e6cb20"
      }
     },
     "metadata": {}
    },
    {
     "output_type": "stream",
     "name": "stdout",
     "text": [
      "preds: tensor([-0.9348,  1.0479, -0.0822, -0.5423,  1.3441], device='cuda:0',\n       grad_fn=<SliceBackward>)\nlabel: tensor([-1.8307,  1.0561, -1.0570, -1.6819,  1.0055], device='cuda:0')\nTraining Loss: 0.5254. Validation Loss: 1.0184. \n-----------------------------------\nEpoch 25\n-----------------------------------\n"
     ]
    },
    {
     "output_type": "display_data",
     "data": {
      "text/plain": "  0%|          | 0/53 [00:00<?, ?it/s]",
      "application/vnd.jupyter.widget-view+json": {
       "version_major": 2,
       "version_minor": 0,
       "model_id": "59bee116dc6c452dae8ba1c8d5f9f676"
      }
     },
     "metadata": {}
    },
    {
     "output_type": "display_data",
     "data": {
      "text/plain": "  0%|          | 0/8 [00:00<?, ?it/s]",
      "application/vnd.jupyter.widget-view+json": {
       "version_major": 2,
       "version_minor": 0,
       "model_id": "32bcbc14ce90465d80a4d1f3b79de395"
      }
     },
     "metadata": {}
    },
    {
     "output_type": "stream",
     "name": "stdout",
     "text": [
      "preds: tensor([-0.6575,  0.1499,  0.1089,  0.3750,  0.3917], device='cuda:0',\n       grad_fn=<SliceBackward>)\nlabel: tensor([-0.2678, -0.3062, -0.8595,  0.1183, -0.3075], device='cuda:0')\nTraining Loss: 0.5189. Validation Loss: 1.0658. \n"
     ]
    }
   ],
   "source": [
    "for epoch_idx in range(EPOCHS):\n",
    "    print(\"-----------------------------------\")\n",
    "    print(\"Epoch %d\" % (epoch_idx+1))\n",
    "    print(\"-----------------------------------\")\n",
    "    \n",
    "    train_loss, avg_train_loss = qe_train(qe_model, source_model, target_model, train_loader, optimizer, criterion, scheduler = None)\n",
    "    train_loss = train_loss.item()\n",
    "    scheduler.step(train_loss)\n",
    "\n",
    "    #val_loss, avg_val_loss = evaluate(trans_model, val_loader, criterion)\n",
    "\n",
    "    avg_train_loss = avg_train_loss.item()\n",
    "    val_loss, avg_val_loss, r2, mae = qe_evaluate(qe_model, source_model, target_model, val_loader, criterion)\n",
    "    #avg_val_loss = 0\n",
    "    avg_val_loss = avg_val_loss.item()\n",
    "\n",
    "    print(\"Training Loss: %.4f. Validation RMSE: %.4f. Validation R2: %.4f. Validation MAE %.4f\" % (np.sqrt(avg_train_loss), np.sqrt(avg_val_loss), r2, mae))"
   ]
  },
  {
   "cell_type": "code",
   "execution_count": null,
   "metadata": {},
   "outputs": [],
   "source": []
  },
  {
   "cell_type": "code",
   "execution_count": null,
   "metadata": {},
   "outputs": [],
   "source": []
  }
 ]
}